{
 "cells": [
  {
   "cell_type": "code",
   "execution_count": 2,
   "metadata": {},
   "outputs": [],
   "source": [
    "import snscrape.modules.twitter as sntwitter\n",
    "import pandas as pd\n",
    "import datetime as dt\n",
    "from dateutil.relativedelta import relativedelta\n",
    "import networkx as nx\n",
    "\n",
    "pd.set_option('display.max_rows', 100)"
   ]
  },
  {
   "cell_type": "code",
   "execution_count": 5,
   "metadata": {},
   "outputs": [],
   "source": [
    "#Return username from Tweet object\n",
    "def userToUsername(blah,uname=''):\n",
    "    try:\n",
    "        len(blah)\n",
    "        listOfUsernames = []\n",
    "        for i in blah:\n",
    "            listOfUsernames.append(i.username)\n",
    "        return listOfUsernames        \n",
    "    except:\n",
    "        if blah == None or blah == '':\n",
    "            return None\n",
    "        else:\n",
    "            if(blah.username == uname):\n",
    "                return None\n",
    "            else:\n",
    "                return blah.username\n",
    "\n",
    "\n",
    "#Function to retrieve tweet objects from a user, and return Pandas Dataframe of tweets and their corresponding features\n",
    "def retrieveTweets(username,months=0,fromDate='',toDate='',maxTweets=20000):\n",
    "    tweets_list1 = []\n",
    "\n",
    "    if username == '':\n",
    "        return print(\"You need to specify a username!\")\n",
    "    elif months != 0 and (fromDate != '' or toDate != ''):\n",
    "        return print(\"You can only specify months, or from and to dates. Not both!\")\n",
    "    elif months != 0:\n",
    "        mVar = months\n",
    "        sinceDate = (dt.datetime.today() - relativedelta(months=mVar)).strftime(\"%Y-%m-%d\") #\"2015-01-01\"\n",
    "        toDate = dt.datetime.today().strftime(\"%Y-%m-%d\")   #\"2021-10-25\"\n",
    "    elif months == 0 and (fromDate =='' or toDate ==''):        \n",
    "        return print(\"You need to specify months, or a fromDate and toDate!\")\n",
    "    else:\n",
    "        sinceDate = fromDate\n",
    "    unameinput = 'from:' + username\n",
    "    print(\"Username: \"+username)\n",
    "    print(\"Months = \" + str(months))\n",
    "    print(\"From Date: \"+sinceDate)\n",
    "    print(\"To Date: \" + toDate)\n",
    "    print(\"Max Tweets: \" + str(maxTweets))\n",
    "    \n",
    "\n",
    "    #Using TwitterSearchScraper to scrape data and append tweets to list\n",
    "    for i,tweet in enumerate(sntwitter.TwitterSearchScraper(unameinput +\" until:\" + toDate +\" since:\"+sinceDate).get_items()):\n",
    "        if i>maxTweets:\n",
    "            break\n",
    "        tweets_list1.append([tweet.date+ dt.timedelta(hours=2), tweet.id, tweet.content, tweet.user.username, userToUsername(tweet.inReplyToUser,username),userToUsername(tweet.mentionedUsers)])\n",
    "    print(\"Qty of tweets = \",len(tweets_list1))\n",
    "\n",
    "    #Creating a dataframe from the tweets list above\n",
    "    tweets_df1 = pd.DataFrame(tweets_list1, columns=['Datetime', 'Tweet Id', 'Text', 'Username',\"inReplyToUser\",\"mentionedUsers\"])\n",
    "    return tweets_df1"
   ]
  },
  {
   "cell_type": "code",
   "execution_count": null,
   "metadata": {},
   "outputs": [],
   "source": [
    "firstUser = ''\n",
    "\n",
    "userHistory = []\n",
    "tweetsToRetrieve = []\n",
    "fDate = \"2021-09-01\"\n",
    "tDate = \"2021-10-11\"\n",
    "\n",
    "\n",
    "df = retrieveTweets(firstUser,fromDate=fDate,toDate=tDate,maxTweets=1000)\n",
    "dfToSave = df.copy(deep = True)\n",
    "topUsersRepliedTo = df['inReplyToUser'].value_counts()[0:13].index.tolist()\n",
    "userHistory.append(firstUser)\n",
    "\n",
    "\n",
    "for i in range(0,5):\n",
    "    print(\"Iteration: \" + str(i+1))\n",
    "    print(\"<<<<<<<<<< >>>>>>>>>>\")\n",
    "    for username in topUsersRepliedTo:\n",
    "        if username not in userHistory:\n",
    "            UserDFTweetList = retrieveTweets(username,fromDate=fDate,toDate=tDate,maxTweets=2000)\n",
    "            tweetsToRetrieve = UserDFTweetList['inReplyToUser'].value_counts()[0:13].index.tolist()\n",
    "            userHistory.append(username)\n",
    "            dfToSave = dfToSave.append(UserDFTweetList)\n",
    "        else:\n",
    "            print(\"User \" + username + ' already scraped!')\n",
    "        print('=======================')\n",
    "\n",
    "    for username in tweetsToRetrieve:\n",
    "        if username not in userHistory:\n",
    "            UserDFTweetList = retrieveTweets(username,fromDate=fDate,toDate=tDate,maxTweets=2000)\n",
    "            topUsersRepliedTo = UserDFTweetList['inReplyToUser'].value_counts()[0:13].index.tolist()\n",
    "            userHistory.append(username)\n",
    "            dfToSave = dfToSave.append(UserDFTweetList)\n",
    "        else:\n",
    "            print(\"User \" + username + ' already scraped!')\n",
    "        print('=======================')"
   ]
  },
  {
   "cell_type": "code",
   "execution_count": 12,
   "metadata": {},
   "outputs": [],
   "source": [
    "fileNameSave = 'tweets.csv'\n",
    "dfToSave.to_csv(fileNameSave)"
   ]
  },
  {
   "cell_type": "code",
   "execution_count": null,
   "metadata": {},
   "outputs": [],
   "source": [
    "tweetDF = pd.read_csv(fileName)\n",
    "tweetDF = tweetDF[['Username','inReplyToUser']]\n",
    "listOfReplies = tweetDF[~tweetDF['inReplyToUser'].isnull()].values.tolist()"
   ]
  },
  {
   "cell_type": "code",
   "execution_count": null,
   "metadata": {},
   "outputs": [],
   "source": [
    "G = nx.Graph()\n",
    "\n",
    "for i in listOfReplies:\n",
    "    if G.has_edge(i[0], i[1]):\n",
    "        # we added this one before, just increase the weight by one\n",
    "        #print(\"Edge Exists: \"+str(i[0])+'<->'+str(i[1]))\n",
    "        G[i[0]][i[1]]['weight'] += 1\n",
    "    else:\n",
    "        G.add_edge(i[0], i[1],weight=1)\n",
    "        #print(\"Added edge: \"+str(i[0])+'<->'+str(i[1]))"
   ]
  },
  {
   "cell_type": "code",
   "execution_count": null,
   "metadata": {},
   "outputs": [],
   "source": [
    "nx.write_graphml(G,r'TwitterGraph.graphml')"
   ]
  }
 ],
 "metadata": {
  "interpreter": {
   "hash": "016c59799136fdf90d1b1d02f4c14e229e3cc1aa97ef1771c888aeeb1b10eb10"
  },
  "kernelspec": {
   "display_name": "Python 3.9.6 64-bit",
   "language": "python",
   "name": "python3"
  },
  "language_info": {
   "codemirror_mode": {
    "name": "ipython",
    "version": 3
   },
   "file_extension": ".py",
   "mimetype": "text/x-python",
   "name": "python",
   "nbconvert_exporter": "python",
   "pygments_lexer": "ipython3",
   "version": "3.9.6"
  },
  "orig_nbformat": 4
 },
 "nbformat": 4,
 "nbformat_minor": 2
}
